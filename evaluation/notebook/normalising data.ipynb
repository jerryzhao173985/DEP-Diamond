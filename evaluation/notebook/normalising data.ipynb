{
 "cells": [
  {
   "cell_type": "code",
   "execution_count": 11,
   "id": "a5bbf9de",
   "metadata": {},
   "outputs": [],
   "source": [
    "import numpy as np\n",
    "import matplotlib.pyplot as plt\n",
    "\n",
    "angle_data = np.loadtxt('angle.txt') #,skiprows=1)\n",
    "angle_data = np.array(angle_data)\n",
    "\n"
   ]
  },
  {
   "cell_type": "code",
   "execution_count": 12,
   "id": "9ac2b642",
   "metadata": {},
   "outputs": [
    {
     "data": {
      "text/plain": [
       "array([1.799990e+05, 5.619180e-01, 5.746090e-01, 3.141558e+00])"
      ]
     },
     "execution_count": 12,
     "metadata": {},
     "output_type": "execute_result"
    }
   ],
   "source": [
    "np.max(angle_data, axis=0)"
   ]
  },
  {
   "cell_type": "code",
   "execution_count": 13,
   "id": "8b9ee31e",
   "metadata": {},
   "outputs": [
    {
     "data": {
      "text/plain": [
       "array([ 1.      , -0.574309, -0.414788, -3.1415  ])"
      ]
     },
     "execution_count": 13,
     "metadata": {},
     "output_type": "execute_result"
    }
   ],
   "source": [
    "np.min(angle_data, axis=0)"
   ]
  },
  {
   "cell_type": "code",
   "execution_count": 14,
   "id": "475edafb",
   "metadata": {},
   "outputs": [
    {
     "data": {
      "text/plain": [
       "array([ 9.00000000e+04,  1.27958094e-03,  2.06202583e-03, -8.00701559e-02])"
      ]
     },
     "execution_count": 14,
     "metadata": {},
     "output_type": "execute_result"
    }
   ],
   "source": [
    "np.mean(angle_data, axis=0)"
   ]
  },
  {
   "cell_type": "code",
   "execution_count": 15,
   "id": "f46e2933",
   "metadata": {},
   "outputs": [
    {
     "data": {
      "text/plain": [
       "array([5.19612356e+04, 1.22703222e-01, 1.26236844e-01, 1.74984095e+00])"
      ]
     },
     "execution_count": 15,
     "metadata": {},
     "output_type": "execute_result"
    }
   ],
   "source": [
    "np.std(angle_data, axis=0)"
   ]
  },
  {
   "cell_type": "code",
   "execution_count": null,
   "id": "567d29f9",
   "metadata": {},
   "outputs": [],
   "source": []
  },
  {
   "cell_type": "code",
   "execution_count": 8,
   "id": "a68d014a",
   "metadata": {},
   "outputs": [
    {
     "data": {
      "text/plain": [
       "(177999, 4)"
      ]
     },
     "execution_count": 8,
     "metadata": {},
     "output_type": "execute_result"
    }
   ],
   "source": [
    "angle_data = np.array(angle_data[1000:,:])\n",
    "angle_data.shape"
   ]
  },
  {
   "cell_type": "code",
   "execution_count": 9,
   "id": "866fc795",
   "metadata": {},
   "outputs": [
    {
     "data": {
      "text/plain": [
       "(array([1.799990e+05, 5.619180e-01, 5.746090e-01, 3.141558e+00]),\n",
       " array([ 2.00100e+03, -5.74309e-01, -4.14788e-01, -3.14150e+00]),\n",
       " array([ 9.10000000e+04,  1.31268012e-03,  2.05342910e-03, -8.09647313e-02]))"
      ]
     },
     "execution_count": 9,
     "metadata": {},
     "output_type": "execute_result"
    }
   ],
   "source": [
    "np.max(angle_data, axis=0), np.min(angle_data, axis=0), np.mean(angle_data, axis=0)"
   ]
  },
  {
   "cell_type": "code",
   "execution_count": 10,
   "id": "f6e31487",
   "metadata": {},
   "outputs": [
    {
     "data": {
      "text/plain": [
       "array([5.13838853e+04, 1.23368881e-01, 1.26934381e-01, 1.75962352e+00])"
      ]
     },
     "execution_count": 10,
     "metadata": {},
     "output_type": "execute_result"
    }
   ],
   "source": [
    "np.std(angle_data, axis=0)"
   ]
  },
  {
   "cell_type": "markdown",
   "id": "78314c0f",
   "metadata": {},
   "source": [
    "\n",
    "## Thus we find out we should normalize the z-axis by dividing by 1.75 (or 2)"
   ]
  },
  {
   "cell_type": "code",
   "execution_count": null,
   "id": "63c5ac71",
   "metadata": {},
   "outputs": [],
   "source": []
  }
 ],
 "metadata": {
  "kernelspec": {
   "display_name": "Python 3",
   "language": "python",
   "name": "python3"
  },
  "language_info": {
   "codemirror_mode": {
    "name": "ipython",
    "version": 3
   },
   "file_extension": ".py",
   "mimetype": "text/x-python",
   "name": "python",
   "nbconvert_exporter": "python",
   "pygments_lexer": "ipython3",
   "version": "3.8.8"
  }
 },
 "nbformat": 4,
 "nbformat_minor": 5
}
